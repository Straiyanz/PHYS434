{
  "cells": [
    {
      "cell_type": "markdown",
      "metadata": {
        "id": "view-in-github",
        "colab_type": "text"
      },
      "source": [
        "<a href=\"https://colab.research.google.com/github/Straiyanz/PHYS434/blob/main/Lab7.ipynb\" target=\"_parent\"><img src=\"https://colab.research.google.com/assets/colab-badge.svg\" alt=\"Open In Colab\"/></a>"
      ]
    },
    {
      "cell_type": "markdown",
      "id": "b8bae119-c679-4f68-a633-b0d4c43ac00f",
      "metadata": {
        "id": "b8bae119-c679-4f68-a633-b0d4c43ac00f"
      },
      "source": [
        "# Lab 7/8: HERA\n",
        "## Lab Partner: Oscar Pujol\n",
        "---\n",
        "### Step 1: Remove Contamination"
      ]
    },
    {
      "cell_type": "code",
      "execution_count": 1,
      "id": "c9d1d43c-5d3b-4652-9218-c22c4c335bec",
      "metadata": {
        "tags": [],
        "id": "c9d1d43c-5d3b-4652-9218-c22c4c335bec"
      },
      "outputs": [],
      "source": [
        "# so i dont have to use a terminal every time :), thanks oscar\n",
        "!pip install pyuvdata > /dev/null # /dev/null just supresses output"
      ]
    },
    {
      "cell_type": "code",
      "execution_count": 2,
      "id": "24ad6fac-e3c3-45a2-9e9a-96b4fadeb11c",
      "metadata": {
        "tags": [],
        "id": "24ad6fac-e3c3-45a2-9e9a-96b4fadeb11c"
      },
      "outputs": [],
      "source": [
        "# imports\n",
        "from pyuvdata import UVData\n",
        "import numpy as np\n",
        "from matplotlib import pyplot as plt\n",
        "from tqdm import tqdm\n",
        "from scipy.stats import rayleigh\n",
        "import gc\n",
        "import ctypes"
      ]
    },
    {
      "cell_type": "code",
      "execution_count": 3,
      "id": "414a9799-4426-48ae-8b27-e23ecb2ba0bd",
      "metadata": {
        "tags": [],
        "colab": {
          "base_uri": "https://localhost:8080/",
          "height": 494
        },
        "id": "414a9799-4426-48ae-8b27-e23ecb2ba0bd",
        "outputId": "d750259c-de1b-41ac-b04c-42ff07bf09c3"
      },
      "outputs": [
        {
          "output_type": "error",
          "ename": "FileNotFoundError",
          "evalue": "ignored",
          "traceback": [
            "\u001b[0;31m---------------------------------------------------------------------------\u001b[0m",
            "\u001b[0;31mFileNotFoundError\u001b[0m                         Traceback (most recent call last)",
            "\u001b[0;32m<ipython-input-3-1cb8206400fc>\u001b[0m in \u001b[0;36m<cell line: 5>\u001b[0;34m()\u001b[0m\n\u001b[1;32m      3\u001b[0m \u001b[0;34m\u001b[0m\u001b[0m\n\u001b[1;32m      4\u001b[0m \u001b[0muv1\u001b[0m \u001b[0;34m=\u001b[0m \u001b[0mUVData\u001b[0m\u001b[0;34m(\u001b[0m\u001b[0;34m)\u001b[0m \u001b[0;31m# naming after last digit in file numbering scheme, so 1,5,8 respectively\u001b[0m\u001b[0;34m\u001b[0m\u001b[0;34m\u001b[0m\u001b[0m\n\u001b[0;32m----> 5\u001b[0;31m \u001b[0muv1\u001b[0m\u001b[0;34m.\u001b[0m\u001b[0mread\u001b[0m\u001b[0;34m(\u001b[0m\u001b[0;34mf'{path_to_data_file}/zen.2459122.34011.mini.sum.uvh5'\u001b[0m\u001b[0;34m)\u001b[0m\u001b[0;34m\u001b[0m\u001b[0;34m\u001b[0m\u001b[0m\n\u001b[0m\u001b[1;32m      6\u001b[0m \u001b[0mdata1\u001b[0m \u001b[0;34m=\u001b[0m \u001b[0muv1\u001b[0m\u001b[0;34m.\u001b[0m\u001b[0mdata_array\u001b[0m\u001b[0;34m\u001b[0m\u001b[0;34m\u001b[0m\u001b[0m\n\u001b[1;32m      7\u001b[0m \u001b[0;34m\u001b[0m\u001b[0m\n",
            "\u001b[0;32m/usr/local/lib/python3.10/dist-packages/pyuvdata/uvdata/uvdata.py\u001b[0m in \u001b[0;36mread\u001b[0;34m(self, filename, axis, file_type, read_data, skip_bad_files, background_lsts, astrometry_library, ignore_name, use_future_array_shapes, allow_rephase, make_multi_phase, antenna_nums, antenna_names, ant_str, bls, catalog_names, frequencies, freq_chans, times, time_range, lsts, lst_range, polarizations, blt_inds, phase_center_ids, keep_all_metadata, run_check, check_extra, run_check_acceptability, strict_uvw_antpos_check, check_autos, fix_autos, phase_type, projected, correct_lat_lon, calc_lst, fix_old_proj, fix_use_ant_pos, use_model, data_column, pol_order, ignore_single_chan, raise_error, read_weights, allow_flex_pol, multidim_index, remove_flex_pol, blt_order, blts_are_rectangular, time_axis_faster_than_bls, data_array_dtype, use_aoflagger_flags, remove_dig_gains, remove_coarse_band, correct_cable_len, correct_van_vleck, cheby_approx, flag_small_auto_ants, propagate_coarse_flags, flag_init, edge_width, start_flag, end_flag, flag_dc_offset, remove_flagged_ants, phase_to_pointing_center, nsample_array_dtype, corrchunk, receivers, sidebands, mir_select_where, apply_tsys, apply_flags, apply_dedoppler, pseudo_cont, rechunk, recompute_nbls)\u001b[0m\n\u001b[1;32m  12474\u001b[0m \u001b[0;34m\u001b[0m\u001b[0m\n\u001b[1;32m  12475\u001b[0m             \u001b[0;32melif\u001b[0m \u001b[0mfile_type\u001b[0m \u001b[0;34m==\u001b[0m \u001b[0;34m\"uvh5\"\u001b[0m\u001b[0;34m:\u001b[0m\u001b[0;34m\u001b[0m\u001b[0;34m\u001b[0m\u001b[0m\n\u001b[0;32m> 12476\u001b[0;31m                 self.read_uvh5(\n\u001b[0m\u001b[1;32m  12477\u001b[0m                     \u001b[0mfilename\u001b[0m\u001b[0;34m,\u001b[0m\u001b[0;34m\u001b[0m\u001b[0;34m\u001b[0m\u001b[0m\n\u001b[1;32m  12478\u001b[0m                     \u001b[0mantenna_nums\u001b[0m\u001b[0;34m=\u001b[0m\u001b[0mantenna_nums\u001b[0m\u001b[0;34m,\u001b[0m\u001b[0;34m\u001b[0m\u001b[0;34m\u001b[0m\u001b[0m\n",
            "\u001b[0;32m/usr/local/lib/python3.10/dist-packages/pyuvdata/uvdata/uvdata.py\u001b[0m in \u001b[0;36mread_uvh5\u001b[0;34m(self, filename, **kwargs)\u001b[0m\n\u001b[1;32m  11315\u001b[0m \u001b[0;34m\u001b[0m\u001b[0m\n\u001b[1;32m  11316\u001b[0m         \u001b[0muvh5_obj\u001b[0m \u001b[0;34m=\u001b[0m \u001b[0muvh5\u001b[0m\u001b[0;34m.\u001b[0m\u001b[0mUVH5\u001b[0m\u001b[0;34m(\u001b[0m\u001b[0;34m)\u001b[0m\u001b[0;34m\u001b[0m\u001b[0;34m\u001b[0m\u001b[0m\n\u001b[0;32m> 11317\u001b[0;31m         \u001b[0muvh5_obj\u001b[0m\u001b[0;34m.\u001b[0m\u001b[0mread_uvh5\u001b[0m\u001b[0;34m(\u001b[0m\u001b[0mfilename\u001b[0m\u001b[0;34m,\u001b[0m \u001b[0;34m**\u001b[0m\u001b[0mkwargs\u001b[0m\u001b[0;34m)\u001b[0m\u001b[0;34m\u001b[0m\u001b[0;34m\u001b[0m\u001b[0m\n\u001b[0m\u001b[1;32m  11318\u001b[0m         \u001b[0mself\u001b[0m\u001b[0;34m.\u001b[0m\u001b[0m_convert_from_filetype\u001b[0m\u001b[0;34m(\u001b[0m\u001b[0muvh5_obj\u001b[0m\u001b[0;34m)\u001b[0m\u001b[0;34m\u001b[0m\u001b[0;34m\u001b[0m\u001b[0m\n\u001b[1;32m  11319\u001b[0m         \u001b[0;32mdel\u001b[0m \u001b[0muvh5_obj\u001b[0m\u001b[0;34m\u001b[0m\u001b[0;34m\u001b[0m\u001b[0m\n",
            "\u001b[0;32m/usr/local/lib/python3.10/dist-packages/pyuvdata/uvdata/uvh5.py\u001b[0m in \u001b[0;36mread_uvh5\u001b[0;34m(self, filename, antenna_nums, antenna_names, ant_str, bls, frequencies, freq_chans, times, time_range, lsts, lst_range, polarizations, blt_inds, phase_center_ids, catalog_names, keep_all_metadata, read_data, data_array_dtype, multidim_index, remove_flex_pol, background_lsts, run_check, check_extra, run_check_acceptability, strict_uvw_antpos_check, fix_old_proj, fix_use_ant_pos, check_autos, fix_autos, use_future_array_shapes, blt_order, blts_are_rectangular, time_axis_faster_than_bls, recompute_nbls, astrometry_library)\u001b[0m\n\u001b[1;32m   1466\u001b[0m \u001b[0;34m\u001b[0m\u001b[0m\n\u001b[1;32m   1467\u001b[0m         \u001b[0;31m# open hdf5 file for reading\u001b[0m\u001b[0;34m\u001b[0m\u001b[0;34m\u001b[0m\u001b[0m\n\u001b[0;32m-> 1468\u001b[0;31m         self._read_header(\n\u001b[0m\u001b[1;32m   1469\u001b[0m             \u001b[0mmeta\u001b[0m\u001b[0;34m,\u001b[0m\u001b[0;34m\u001b[0m\u001b[0;34m\u001b[0m\u001b[0m\n\u001b[1;32m   1470\u001b[0m             \u001b[0mrun_check_acceptability\u001b[0m\u001b[0;34m=\u001b[0m\u001b[0mrun_check_acceptability\u001b[0m\u001b[0;34m,\u001b[0m\u001b[0;34m\u001b[0m\u001b[0;34m\u001b[0m\u001b[0m\n",
            "\u001b[0;32m/usr/local/lib/python3.10/dist-packages/pyuvdata/uvdata/uvh5.py\u001b[0m in \u001b[0;36m_read_header\u001b[0;34m(self, filename, **kwargs)\u001b[0m\n\u001b[1;32m   1088\u001b[0m         \u001b[0;32mNone\u001b[0m\u001b[0;34m\u001b[0m\u001b[0;34m\u001b[0m\u001b[0m\n\u001b[1;32m   1089\u001b[0m         \"\"\"\n\u001b[0;32m-> 1090\u001b[0;31m         \u001b[0mself\u001b[0m\u001b[0;34m.\u001b[0m\u001b[0m_read_header_with_fast_meta\u001b[0m\u001b[0;34m(\u001b[0m\u001b[0mfilename\u001b[0m\u001b[0;34m,\u001b[0m \u001b[0;34m**\u001b[0m\u001b[0mkwargs\u001b[0m\u001b[0;34m)\u001b[0m\u001b[0;34m\u001b[0m\u001b[0;34m\u001b[0m\u001b[0m\n\u001b[0m\u001b[1;32m   1091\u001b[0m \u001b[0;34m\u001b[0m\u001b[0m\n\u001b[1;32m   1092\u001b[0m     def _get_data(\n",
            "\u001b[0;32m/usr/local/lib/python3.10/dist-packages/pyuvdata/uvdata/uvh5.py\u001b[0m in \u001b[0;36m_read_header_with_fast_meta\u001b[0;34m(self, filename, run_check_acceptability, blt_order, blts_are_rectangular, time_axis_faster_than_bls, background_lsts, recompute_nbls, astrometry_library)\u001b[0m\n\u001b[1;32m    909\u001b[0m         \u001b[0;31m# First, get the things relevant for setting LSTs, so that can be run in the\u001b[0m\u001b[0;34m\u001b[0m\u001b[0;34m\u001b[0m\u001b[0m\n\u001b[1;32m    910\u001b[0m         \u001b[0;31m# background if desired.\u001b[0m\u001b[0;34m\u001b[0m\u001b[0;34m\u001b[0m\u001b[0m\n\u001b[0;32m--> 911\u001b[0;31m         \u001b[0mself\u001b[0m\u001b[0;34m.\u001b[0m\u001b[0mtime_array\u001b[0m \u001b[0;34m=\u001b[0m \u001b[0mobj\u001b[0m\u001b[0;34m.\u001b[0m\u001b[0mtime_array\u001b[0m\u001b[0;34m\u001b[0m\u001b[0;34m\u001b[0m\u001b[0m\n\u001b[0m\u001b[1;32m    912\u001b[0m         \u001b[0;31m# must set the frame before setting the location using lat/lon/alt\u001b[0m\u001b[0;34m\u001b[0m\u001b[0;34m\u001b[0m\u001b[0m\n\u001b[1;32m    913\u001b[0m         \u001b[0mself\u001b[0m\u001b[0;34m.\u001b[0m\u001b[0m_telescope_location\u001b[0m\u001b[0;34m.\u001b[0m\u001b[0mframe\u001b[0m \u001b[0;34m=\u001b[0m \u001b[0mobj\u001b[0m\u001b[0;34m.\u001b[0m\u001b[0mtelescope_frame\u001b[0m\u001b[0;34m\u001b[0m\u001b[0;34m\u001b[0m\u001b[0m\n",
            "\u001b[0;32m/usr/local/lib/python3.10/dist-packages/pyuvdata/uvdata/uvh5.py\u001b[0m in \u001b[0;36m__getattr__\u001b[0;34m(self, name)\u001b[0m\n\u001b[1;32m    449\u001b[0m         \u001b[0;34m\"\"\"Get attribute directly from header group.\"\"\"\u001b[0m\u001b[0;34m\u001b[0m\u001b[0;34m\u001b[0m\u001b[0m\n\u001b[1;32m    450\u001b[0m         \u001b[0;32mtry\u001b[0m\u001b[0;34m:\u001b[0m\u001b[0;34m\u001b[0m\u001b[0;34m\u001b[0m\u001b[0m\n\u001b[0;32m--> 451\u001b[0;31m             \u001b[0mx\u001b[0m \u001b[0;34m=\u001b[0m \u001b[0mself\u001b[0m\u001b[0;34m.\u001b[0m\u001b[0mheader\u001b[0m\u001b[0;34m[\u001b[0m\u001b[0mname\u001b[0m\u001b[0;34m]\u001b[0m\u001b[0;34m[\u001b[0m\u001b[0;34m(\u001b[0m\u001b[0;34m)\u001b[0m\u001b[0;34m]\u001b[0m\u001b[0;34m\u001b[0m\u001b[0;34m\u001b[0m\u001b[0m\n\u001b[0m\u001b[1;32m    452\u001b[0m             \u001b[0;32mif\u001b[0m \u001b[0mname\u001b[0m \u001b[0;32min\u001b[0m \u001b[0mself\u001b[0m\u001b[0;34m.\u001b[0m\u001b[0m_string_attrs\u001b[0m\u001b[0;34m:\u001b[0m\u001b[0;34m\u001b[0m\u001b[0;34m\u001b[0m\u001b[0m\n\u001b[1;32m    453\u001b[0m                 \u001b[0mx\u001b[0m \u001b[0;34m=\u001b[0m \u001b[0mbytes\u001b[0m\u001b[0;34m(\u001b[0m\u001b[0mx\u001b[0m\u001b[0;34m)\u001b[0m\u001b[0;34m.\u001b[0m\u001b[0mdecode\u001b[0m\u001b[0;34m(\u001b[0m\u001b[0;34m\"utf8\"\u001b[0m\u001b[0;34m)\u001b[0m\u001b[0;34m\u001b[0m\u001b[0;34m\u001b[0m\u001b[0m\n",
            "\u001b[0;32m/usr/lib/python3.10/functools.py\u001b[0m in \u001b[0;36m__get__\u001b[0;34m(self, instance, owner)\u001b[0m\n\u001b[1;32m    979\u001b[0m                 \u001b[0mval\u001b[0m \u001b[0;34m=\u001b[0m \u001b[0mcache\u001b[0m\u001b[0;34m.\u001b[0m\u001b[0mget\u001b[0m\u001b[0;34m(\u001b[0m\u001b[0mself\u001b[0m\u001b[0;34m.\u001b[0m\u001b[0mattrname\u001b[0m\u001b[0;34m,\u001b[0m \u001b[0m_NOT_FOUND\u001b[0m\u001b[0;34m)\u001b[0m\u001b[0;34m\u001b[0m\u001b[0;34m\u001b[0m\u001b[0m\n\u001b[1;32m    980\u001b[0m                 \u001b[0;32mif\u001b[0m \u001b[0mval\u001b[0m \u001b[0;32mis\u001b[0m \u001b[0m_NOT_FOUND\u001b[0m\u001b[0;34m:\u001b[0m\u001b[0;34m\u001b[0m\u001b[0;34m\u001b[0m\u001b[0m\n\u001b[0;32m--> 981\u001b[0;31m                     \u001b[0mval\u001b[0m \u001b[0;34m=\u001b[0m \u001b[0mself\u001b[0m\u001b[0;34m.\u001b[0m\u001b[0mfunc\u001b[0m\u001b[0;34m(\u001b[0m\u001b[0minstance\u001b[0m\u001b[0;34m)\u001b[0m\u001b[0;34m\u001b[0m\u001b[0;34m\u001b[0m\u001b[0m\n\u001b[0m\u001b[1;32m    982\u001b[0m                     \u001b[0;32mtry\u001b[0m\u001b[0;34m:\u001b[0m\u001b[0;34m\u001b[0m\u001b[0;34m\u001b[0m\u001b[0m\n\u001b[1;32m    983\u001b[0m                         \u001b[0mcache\u001b[0m\u001b[0;34m[\u001b[0m\u001b[0mself\u001b[0m\u001b[0;34m.\u001b[0m\u001b[0mattrname\u001b[0m\u001b[0;34m]\u001b[0m \u001b[0;34m=\u001b[0m \u001b[0mval\u001b[0m\u001b[0;34m\u001b[0m\u001b[0;34m\u001b[0m\u001b[0m\n",
            "\u001b[0;32m/usr/local/lib/python3.10/dist-packages/pyuvdata/uvdata/uvh5.py\u001b[0m in \u001b[0;36mheader\u001b[0;34m(self)\u001b[0m\n\u001b[1;32m    411\u001b[0m         \u001b[0;34m\"\"\"Get the header group.\"\"\"\u001b[0m\u001b[0;34m\u001b[0m\u001b[0;34m\u001b[0m\u001b[0m\n\u001b[1;32m    412\u001b[0m         \u001b[0;32mif\u001b[0m \u001b[0;32mnot\u001b[0m \u001b[0mself\u001b[0m\u001b[0;34m.\u001b[0m\u001b[0m__file\u001b[0m\u001b[0;34m:\u001b[0m\u001b[0;34m\u001b[0m\u001b[0;34m\u001b[0m\u001b[0m\n\u001b[0;32m--> 413\u001b[0;31m             \u001b[0mself\u001b[0m\u001b[0;34m.\u001b[0m\u001b[0mopen\u001b[0m\u001b[0;34m(\u001b[0m\u001b[0;34m)\u001b[0m\u001b[0;34m\u001b[0m\u001b[0;34m\u001b[0m\u001b[0m\n\u001b[0m\u001b[1;32m    414\u001b[0m         \u001b[0;32mreturn\u001b[0m \u001b[0mself\u001b[0m\u001b[0;34m.\u001b[0m\u001b[0m__header\u001b[0m\u001b[0;34m\u001b[0m\u001b[0;34m\u001b[0m\u001b[0m\n\u001b[1;32m    415\u001b[0m \u001b[0;34m\u001b[0m\u001b[0m\n",
            "\u001b[0;32m/usr/local/lib/python3.10/dist-packages/pyuvdata/uvdata/uvh5.py\u001b[0m in \u001b[0;36mopen\u001b[0;34m(self)\u001b[0m\n\u001b[1;32m    403\u001b[0m         \u001b[0;34m\"\"\"Open the file.\"\"\"\u001b[0m\u001b[0;34m\u001b[0m\u001b[0;34m\u001b[0m\u001b[0m\n\u001b[1;32m    404\u001b[0m         \u001b[0;32mif\u001b[0m \u001b[0;32mnot\u001b[0m \u001b[0mself\u001b[0m\u001b[0;34m.\u001b[0m\u001b[0m__file\u001b[0m\u001b[0;34m:\u001b[0m\u001b[0;34m\u001b[0m\u001b[0;34m\u001b[0m\u001b[0m\n\u001b[0;32m--> 405\u001b[0;31m             \u001b[0mself\u001b[0m\u001b[0;34m.\u001b[0m\u001b[0m__file\u001b[0m \u001b[0;34m=\u001b[0m \u001b[0mh5py\u001b[0m\u001b[0;34m.\u001b[0m\u001b[0mFile\u001b[0m\u001b[0;34m(\u001b[0m\u001b[0mself\u001b[0m\u001b[0;34m.\u001b[0m\u001b[0mpath\u001b[0m\u001b[0;34m,\u001b[0m \u001b[0;34m\"r\"\u001b[0m\u001b[0;34m)\u001b[0m\u001b[0;34m\u001b[0m\u001b[0;34m\u001b[0m\u001b[0m\n\u001b[0m\u001b[1;32m    406\u001b[0m             \u001b[0mself\u001b[0m\u001b[0;34m.\u001b[0m\u001b[0m__header\u001b[0m \u001b[0;34m=\u001b[0m \u001b[0mself\u001b[0m\u001b[0;34m.\u001b[0m\u001b[0m__file\u001b[0m\u001b[0;34m[\u001b[0m\u001b[0;34m\"/Header\"\u001b[0m\u001b[0;34m]\u001b[0m\u001b[0;34m\u001b[0m\u001b[0;34m\u001b[0m\u001b[0m\n\u001b[1;32m    407\u001b[0m             \u001b[0mself\u001b[0m\u001b[0;34m.\u001b[0m\u001b[0m__datagrp\u001b[0m \u001b[0;34m=\u001b[0m \u001b[0mself\u001b[0m\u001b[0;34m.\u001b[0m\u001b[0m__file\u001b[0m\u001b[0;34m[\u001b[0m\u001b[0;34m\"/Data\"\u001b[0m\u001b[0;34m]\u001b[0m\u001b[0;34m\u001b[0m\u001b[0;34m\u001b[0m\u001b[0m\n",
            "\u001b[0;32m/usr/local/lib/python3.10/dist-packages/h5py/_hl/files.py\u001b[0m in \u001b[0;36m__init__\u001b[0;34m(self, name, mode, driver, libver, userblock_size, swmr, rdcc_nslots, rdcc_nbytes, rdcc_w0, track_order, fs_strategy, fs_persist, fs_threshold, fs_page_size, page_buf_size, min_meta_keep, min_raw_keep, locking, alignment_threshold, alignment_interval, meta_block_size, **kwds)\u001b[0m\n\u001b[1;32m    565\u001b[0m                                  \u001b[0mfs_persist\u001b[0m\u001b[0;34m=\u001b[0m\u001b[0mfs_persist\u001b[0m\u001b[0;34m,\u001b[0m \u001b[0mfs_threshold\u001b[0m\u001b[0;34m=\u001b[0m\u001b[0mfs_threshold\u001b[0m\u001b[0;34m,\u001b[0m\u001b[0;34m\u001b[0m\u001b[0;34m\u001b[0m\u001b[0m\n\u001b[1;32m    566\u001b[0m                                  fs_page_size=fs_page_size)\n\u001b[0;32m--> 567\u001b[0;31m                 \u001b[0mfid\u001b[0m \u001b[0;34m=\u001b[0m \u001b[0mmake_fid\u001b[0m\u001b[0;34m(\u001b[0m\u001b[0mname\u001b[0m\u001b[0;34m,\u001b[0m \u001b[0mmode\u001b[0m\u001b[0;34m,\u001b[0m \u001b[0muserblock_size\u001b[0m\u001b[0;34m,\u001b[0m \u001b[0mfapl\u001b[0m\u001b[0;34m,\u001b[0m \u001b[0mfcpl\u001b[0m\u001b[0;34m,\u001b[0m \u001b[0mswmr\u001b[0m\u001b[0;34m=\u001b[0m\u001b[0mswmr\u001b[0m\u001b[0;34m)\u001b[0m\u001b[0;34m\u001b[0m\u001b[0;34m\u001b[0m\u001b[0m\n\u001b[0m\u001b[1;32m    568\u001b[0m \u001b[0;34m\u001b[0m\u001b[0m\n\u001b[1;32m    569\u001b[0m             \u001b[0;32mif\u001b[0m \u001b[0misinstance\u001b[0m\u001b[0;34m(\u001b[0m\u001b[0mlibver\u001b[0m\u001b[0;34m,\u001b[0m \u001b[0mtuple\u001b[0m\u001b[0;34m)\u001b[0m\u001b[0;34m:\u001b[0m\u001b[0;34m\u001b[0m\u001b[0;34m\u001b[0m\u001b[0m\n",
            "\u001b[0;32m/usr/local/lib/python3.10/dist-packages/h5py/_hl/files.py\u001b[0m in \u001b[0;36mmake_fid\u001b[0;34m(name, mode, userblock_size, fapl, fcpl, swmr)\u001b[0m\n\u001b[1;32m    229\u001b[0m         \u001b[0;32mif\u001b[0m \u001b[0mswmr\u001b[0m \u001b[0;32mand\u001b[0m \u001b[0mswmr_support\u001b[0m\u001b[0;34m:\u001b[0m\u001b[0;34m\u001b[0m\u001b[0;34m\u001b[0m\u001b[0m\n\u001b[1;32m    230\u001b[0m             \u001b[0mflags\u001b[0m \u001b[0;34m|=\u001b[0m \u001b[0mh5f\u001b[0m\u001b[0;34m.\u001b[0m\u001b[0mACC_SWMR_READ\u001b[0m\u001b[0;34m\u001b[0m\u001b[0;34m\u001b[0m\u001b[0m\n\u001b[0;32m--> 231\u001b[0;31m         \u001b[0mfid\u001b[0m \u001b[0;34m=\u001b[0m \u001b[0mh5f\u001b[0m\u001b[0;34m.\u001b[0m\u001b[0mopen\u001b[0m\u001b[0;34m(\u001b[0m\u001b[0mname\u001b[0m\u001b[0;34m,\u001b[0m \u001b[0mflags\u001b[0m\u001b[0;34m,\u001b[0m \u001b[0mfapl\u001b[0m\u001b[0;34m=\u001b[0m\u001b[0mfapl\u001b[0m\u001b[0;34m)\u001b[0m\u001b[0;34m\u001b[0m\u001b[0;34m\u001b[0m\u001b[0m\n\u001b[0m\u001b[1;32m    232\u001b[0m     \u001b[0;32melif\u001b[0m \u001b[0mmode\u001b[0m \u001b[0;34m==\u001b[0m \u001b[0;34m'r+'\u001b[0m\u001b[0;34m:\u001b[0m\u001b[0;34m\u001b[0m\u001b[0;34m\u001b[0m\u001b[0m\n\u001b[1;32m    233\u001b[0m         \u001b[0mfid\u001b[0m \u001b[0;34m=\u001b[0m \u001b[0mh5f\u001b[0m\u001b[0;34m.\u001b[0m\u001b[0mopen\u001b[0m\u001b[0;34m(\u001b[0m\u001b[0mname\u001b[0m\u001b[0;34m,\u001b[0m \u001b[0mh5f\u001b[0m\u001b[0;34m.\u001b[0m\u001b[0mACC_RDWR\u001b[0m\u001b[0;34m,\u001b[0m \u001b[0mfapl\u001b[0m\u001b[0;34m=\u001b[0m\u001b[0mfapl\u001b[0m\u001b[0;34m)\u001b[0m\u001b[0;34m\u001b[0m\u001b[0;34m\u001b[0m\u001b[0m\n",
            "\u001b[0;32mh5py/_objects.pyx\u001b[0m in \u001b[0;36mh5py._objects.with_phil.wrapper\u001b[0;34m()\u001b[0m\n",
            "\u001b[0;32mh5py/_objects.pyx\u001b[0m in \u001b[0;36mh5py._objects.with_phil.wrapper\u001b[0;34m()\u001b[0m\n",
            "\u001b[0;32mh5py/h5f.pyx\u001b[0m in \u001b[0;36mh5py.h5f.open\u001b[0;34m()\u001b[0m\n",
            "\u001b[0;31mFileNotFoundError\u001b[0m: [Errno 2] Unable to open file (unable to open file: name = 'HERA/zen.2459122.34011.mini.sum.uvh5', errno = 2, error message = 'No such file or directory', flags = 0, o_flags = 0)"
          ]
        }
      ],
      "source": [
        "# loading data\n",
        "path_to_data_file = './HERA/'\n",
        "\n",
        "uv1 = UVData() # naming after last digit in file numbering scheme, so 1,5,8 respectively\n",
        "uv1.read(f'{path_to_data_file}/zen.2459122.34011.mini.sum.uvh5')\n",
        "data1 = uv1.data_array\n",
        "\n",
        "# uv5 = UVData()\n",
        "# uv5.read(f'{path_to_data_file}/zen.2459122.48015.mini.sum.uvh5')\n",
        "# data5 = uv5.data_array\n",
        "\n",
        "# uv8 = UVData()\n",
        "# uv8.read(f'{path_to_data_file}/zen.2459122.62018.mini.sum.uvh5')\n",
        "# data8 = uv8.data_array\n",
        "\n",
        "# doing this to refresh my memory on the sizes of things\n",
        "print('This data array has shape:')\n",
        "print('(# baselines*times, # spectral windows, # frequencies, # polarizations)')\n",
        "print(np.shape(data1))"
      ]
    },
    {
      "cell_type": "code",
      "execution_count": null,
      "id": "16c92db8-943f-49a4-97eb-9f3e8100df70",
      "metadata": {
        "tags": [],
        "id": "16c92db8-943f-49a4-97eb-9f3e8100df70"
      },
      "outputs": [],
      "source": [
        "# selecting antenna with data:\n",
        "ants = uv1.get_ants()\n",
        "print(ants)"
      ]
    },
    {
      "cell_type": "code",
      "execution_count": null,
      "id": "9aef76ff-9d67-4c74-9e08-77ff0cb74ef9",
      "metadata": {
        "tags": [],
        "id": "9aef76ff-9d67-4c74-9e08-77ff0cb74ef9"
      },
      "outputs": [],
      "source": [
        "# getting baseline data for each\n",
        "alldata = []\n",
        "for i in range(len(ants)):\n",
        "    for j in range(len(ants)):\n",
        "        newdata = np.abs(uv1.get_data(ants[i], ants[j]) - uv1.get_data(ants[i], ants[i]))\n",
        "        if newdata.all() != 0.0:\n",
        "            alldata.append(newdata)"
      ]
    },
    {
      "cell_type": "code",
      "execution_count": null,
      "id": "40ead44a-98c3-4ecf-90a6-f3d2fad09669",
      "metadata": {
        "tags": [],
        "id": "40ead44a-98c3-4ecf-90a6-f3d2fad09669"
      },
      "outputs": [],
      "source": [
        "# makes upcoming for loops easier\n",
        "baselines = range(len(alldata))\n",
        "print(baselines)\n",
        "t = range(len(alldata[0]))\n",
        "print(t)\n",
        "freqs = range(len(alldata[0][0]))\n",
        "print(freqs)\n",
        "\n",
        "# making space kernel keeps crashing\n",
        "del data1, uv1"
      ]
    },
    {
      "cell_type": "code",
      "execution_count": null,
      "id": "71459a7a-f422-45a7-b3d0-5cf5cbc0548a",
      "metadata": {
        "tags": [],
        "id": "71459a7a-f422-45a7-b3d0-5cf5cbc0548a"
      },
      "outputs": [],
      "source": [
        "alldata_after = np.copy(alldata)\n",
        "# looping over all baselines with data\n",
        "for k in baselines:\n",
        "    # creating masks\n",
        "    mask = np.ones((20, len(alldata[0][0])))\n",
        "    mask_plot = np.zeros_like(mask)\n",
        "    # looping over time intervals\n",
        "    for i in range(19):\n",
        "        data_i = (alldata[k][i])\n",
        "        data_f = (alldata[k][i+1])\n",
        "        data = np.sqrt((data_f - data_i)**2)\n",
        "        threshhold = np.mean(data)\n",
        "        # looping over frequencies\n",
        "        for j in freqs:\n",
        "            if data[j] >= threshhold:\n",
        "                mask[i][j] = 0 # setting mask to zero where we want cuts to be made\n",
        "                mask_plot[i][j] = data[j] # this is purely for plotting\n",
        "\n",
        "        # plotting to check myself\n",
        "        if k % round(len(alldata)/2) == 0 and i % 20 == 0:\n",
        "            plt.figure(figsize=(12,6))\n",
        "            plt.plot(data)\n",
        "            plt.plot(mask_plot[i], color='green', label='mask')\n",
        "            plt.plot([0, len(data)],[threshhold, threshhold], color='red', label='cut')\n",
        "            plt.title(f'Baseline {k}, Timeslice Comparison: {i} to {i+1}')\n",
        "            plt.xlabel('Frequency (MHz)')\n",
        "            plt.ylabel('Amplitude')\n",
        "            plt.yscale('log')\n",
        "            plt.legend()\n",
        "            plt.show()\n",
        "\n",
        "    mask_u = np.ones(len(alldata[0][0])) #  creating mask union\n",
        "    for i in range(20):\n",
        "        mask_u *= mask[i]\n",
        "        alldata_after[k][i] *= mask_u # multiplying data by this sets data to zero where we want to cut\n",
        "\n",
        "\n",
        "del mask_u, mask"
      ]
    },
    {
      "cell_type": "code",
      "execution_count": null,
      "id": "3c33c2a2-167f-467c-b555-92ba27b6ab01",
      "metadata": {
        "tags": [],
        "id": "3c33c2a2-167f-467c-b555-92ba27b6ab01"
      },
      "outputs": [],
      "source": [
        "# checking time slice 0 for a couple baselines to check\n",
        "xlab = 'Frequency (MHz)'\n",
        "ylab = 'Amplitude'\n",
        "\n",
        "for k in baselines:\n",
        "    if k % round(len(alldata)/2) == 0:\n",
        "        plt.figure(figsize=(12,6))\n",
        "        plt.plot(alldata[k][0])\n",
        "        plt.title(f'Baseline {k}, Time Slice 0 - Before Filtering')\n",
        "        plt.xlabel(xlab)\n",
        "        plt.ylabel(ylab)\n",
        "        plt.show()\n",
        "\n",
        "        plt.figure(figsize=(12,6))\n",
        "        plt.plot(alldata_after[k][0])\n",
        "        plt.title(f'Baseline {k}, Time Slice 0 - After Filtering')\n",
        "        plt.xlabel(xlab)\n",
        "        plt.ylabel(ylab)\n",
        "        plt.show()"
      ]
    },
    {
      "cell_type": "markdown",
      "id": "53671a59-ae7a-4377-9538-992ae3eba7aa",
      "metadata": {
        "id": "53671a59-ae7a-4377-9538-992ae3eba7aa"
      },
      "source": [
        "### Step 2: Investigating |$\\Delta V$|"
      ]
    },
    {
      "cell_type": "code",
      "execution_count": null,
      "id": "e6598e38-b6f9-43ba-a25e-2bd2802f67f5",
      "metadata": {
        "id": "e6598e38-b6f9-43ba-a25e-2bd2802f67f5"
      },
      "outputs": [],
      "source": [
        "# flattening to create histogram\n",
        "dv = np.copy(alldata_after).flatten() # was killing my kernal so want to calculate this at least as possible"
      ]
    },
    {
      "cell_type": "code",
      "execution_count": null,
      "id": "ecd44178-38bb-4625-8cc0-8d0544304b58",
      "metadata": {
        "id": "ecd44178-38bb-4625-8cc0-8d0544304b58"
      },
      "outputs": [],
      "source": [
        "# putting frequencies into histogram\n",
        "# dv1 = np.copy(alldata_after[0]).flatten()\n",
        "\n",
        "# histogram\n",
        "plt.figure(figsize=(12,6))\n",
        "bins = plt.hist(dv, bins=100, density=False, label='dV distribution')\n",
        "plt.axvline(x=0.9e7, color='red', linestyle='dashed', label='selection')\n",
        "plt.axvline(x=1e7, color='red', linestyle='dashed')\n",
        "\n",
        "\n",
        "\n",
        "# prettifying\n",
        "plt.title('|V| Histogram')\n",
        "plt.ylabel('Count')\n",
        "plt.xlabel('|V|')\n",
        "plt.xlim(-0.1e6, 25.1e6)\n",
        "plt.show()"
      ]
    },
    {
      "cell_type": "code",
      "execution_count": null,
      "id": "e0189b2e-9b3f-4039-950a-730f1c8093e9",
      "metadata": {
        "tags": [],
        "id": "e0189b2e-9b3f-4039-950a-730f1c8093e9"
      },
      "outputs": [],
      "source": [
        "libc = ctypes.CDLL(\"libc.so.6\") # clearing cache\n",
        "libc.malloc_trim(0)\n",
        "cut_u = 1e7\n",
        "cut_l = 0.9e7\n",
        "dv1 = []\n",
        "for k in tqdm(baselines):\n",
        "    for i in t:\n",
        "        for j in freqs:\n",
        "\n",
        "            if alldata_after[k][i][j] > cut_l and alldata_after[k][i][j] < cut_u:\n",
        "                dv1.append(alldata[k][i][j])\n"
      ]
    },
    {
      "cell_type": "code",
      "execution_count": null,
      "id": "a092b16a-3e5a-4cb6-85ce-8cfff23f28ae",
      "metadata": {
        "tags": [],
        "id": "a092b16a-3e5a-4cb6-85ce-8cfff23f28ae"
      },
      "outputs": [],
      "source": [
        "gc.collect()\n",
        "plt.hist(dv1, bins=30)\n",
        "plt.show()"
      ]
    },
    {
      "cell_type": "code",
      "execution_count": null,
      "id": "ef185149-0df3-4174-bba8-6320d0860241",
      "metadata": {
        "id": "ef185149-0df3-4174-bba8-6320d0860241"
      },
      "outputs": [],
      "source": []
    }
  ],
  "metadata": {
    "kernelspec": {
      "display_name": "Python 3 (ipykernel)",
      "language": "python",
      "name": "python3"
    },
    "language_info": {
      "codemirror_mode": {
        "name": "ipython",
        "version": 3
      },
      "file_extension": ".py",
      "mimetype": "text/x-python",
      "name": "python",
      "nbconvert_exporter": "python",
      "pygments_lexer": "ipython3",
      "version": "2.7.17"
    },
    "colab": {
      "provenance": [],
      "include_colab_link": true
    }
  },
  "nbformat": 4,
  "nbformat_minor": 5
}